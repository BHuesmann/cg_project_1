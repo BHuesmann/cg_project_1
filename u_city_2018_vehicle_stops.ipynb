{
 "cells": [
  {
   "cell_type": "markdown",
   "metadata": {},
   "source": [
    "# University City Vehicle Stops, from 2018"
   ]
  },
  {
   "cell_type": "code",
   "execution_count": 1,
   "metadata": {},
   "outputs": [],
   "source": [
    "import pandas as pd\n",
    "import numpy as np\n",
    "import matplotlib.pyplot as plt\n",
    "import seaborn as sns"
   ]
  },
  {
   "cell_type": "markdown",
   "metadata": {},
   "source": [
    "##### The first step must include importing the data and inspecting it using a variety of Pandas functions and attributes"
   ]
  },
  {
   "cell_type": "code",
   "execution_count": 2,
   "metadata": {},
   "outputs": [],
   "source": [
    "data = pd.read_csv('u_city_2018_vehicle_stops.csv', parse_dates=[' STOP_DATE', ' TIME_OF_STOP'])\n",
    "\n",
    "# Commenting out for brevity of the Notebook\n",
    "# display(data.info())\n",
    "# display(data.describe())"
   ]
  },
  {
   "cell_type": "markdown",
   "metadata": {},
   "source": [
    "##### Next, the data must be cleaned to remove all non-relevant information to make it easier to work with"
   ]
  },
  {
   "cell_type": "code",
   "execution_count": 3,
   "metadata": {},
   "outputs": [
    {
     "data": {
      "text/html": [
       "<div>\n",
       "<style scoped>\n",
       "    .dataframe tbody tr th:only-of-type {\n",
       "        vertical-align: middle;\n",
       "    }\n",
       "\n",
       "    .dataframe tbody tr th {\n",
       "        vertical-align: top;\n",
       "    }\n",
       "\n",
       "    .dataframe thead th {\n",
       "        text-align: right;\n",
       "    }\n",
       "</style>\n",
       "<table border=\"1\" class=\"dataframe\">\n",
       "  <thead>\n",
       "    <tr style=\"text-align: right;\">\n",
       "      <th></th>\n",
       "      <th>STOP_DATE</th>\n",
       "      <th>TIME_OF_STOP</th>\n",
       "      <th>REF_NO</th>\n",
       "      <th>RACE_BEFORE_STOP</th>\n",
       "      <th>RES_JURISDICTION</th>\n",
       "      <th>SEX</th>\n",
       "      <th>RACE</th>\n",
       "      <th>AGE_CODE</th>\n",
       "      <th>STOP_LOCATION</th>\n",
       "      <th>VIOL_INVESTIGATIVE</th>\n",
       "      <th>...</th>\n",
       "      <th>CNTR_OTHER</th>\n",
       "      <th>SEARCH_ARREST</th>\n",
       "      <th>CHRG_WAR_WAN</th>\n",
       "      <th>CHRG_TRAFF_VIOL</th>\n",
       "      <th>CHRG_DRUG_VIOL</th>\n",
       "      <th>CHRG_RESIST_ARR</th>\n",
       "      <th>CHRG_OFF_PERSON</th>\n",
       "      <th>CHRG_PROP_CRIME</th>\n",
       "      <th>CHRG_OTHER</th>\n",
       "      <th>CHRG_DWI</th>\n",
       "    </tr>\n",
       "  </thead>\n",
       "  <tbody>\n",
       "    <tr>\n",
       "      <th>0</th>\n",
       "      <td>2018-01-01</td>\n",
       "      <td>1100</td>\n",
       "      <td>TA00802186</td>\n",
       "      <td>N</td>\n",
       "      <td>Y</td>\n",
       "      <td>M</td>\n",
       "      <td>B</td>\n",
       "      <td>D</td>\n",
       "      <td>S</td>\n",
       "      <td>NaN</td>\n",
       "      <td>...</td>\n",
       "      <td>NaN</td>\n",
       "      <td>N</td>\n",
       "      <td>NaN</td>\n",
       "      <td>NaN</td>\n",
       "      <td>NaN</td>\n",
       "      <td>NaN</td>\n",
       "      <td>NaN</td>\n",
       "      <td>NaN</td>\n",
       "      <td>NaN</td>\n",
       "      <td>NaN</td>\n",
       "    </tr>\n",
       "    <tr>\n",
       "      <th>1</th>\n",
       "      <td>2018-01-01</td>\n",
       "      <td>1819</td>\n",
       "      <td>TA00802235</td>\n",
       "      <td>N</td>\n",
       "      <td>N</td>\n",
       "      <td>M</td>\n",
       "      <td>W</td>\n",
       "      <td>B</td>\n",
       "      <td>C</td>\n",
       "      <td>NaN</td>\n",
       "      <td>...</td>\n",
       "      <td>NaN</td>\n",
       "      <td>N</td>\n",
       "      <td>NaN</td>\n",
       "      <td>NaN</td>\n",
       "      <td>NaN</td>\n",
       "      <td>NaN</td>\n",
       "      <td>NaN</td>\n",
       "      <td>NaN</td>\n",
       "      <td>NaN</td>\n",
       "      <td>NaN</td>\n",
       "    </tr>\n",
       "    <tr>\n",
       "      <th>2</th>\n",
       "      <td>2018-01-01</td>\n",
       "      <td>1756</td>\n",
       "      <td>TA00802261</td>\n",
       "      <td>N</td>\n",
       "      <td>Y</td>\n",
       "      <td>F</td>\n",
       "      <td>H</td>\n",
       "      <td>B</td>\n",
       "      <td>C</td>\n",
       "      <td>NaN</td>\n",
       "      <td>...</td>\n",
       "      <td>NaN</td>\n",
       "      <td>N</td>\n",
       "      <td>NaN</td>\n",
       "      <td>NaN</td>\n",
       "      <td>NaN</td>\n",
       "      <td>NaN</td>\n",
       "      <td>NaN</td>\n",
       "      <td>NaN</td>\n",
       "      <td>NaN</td>\n",
       "      <td>NaN</td>\n",
       "    </tr>\n",
       "    <tr>\n",
       "      <th>3</th>\n",
       "      <td>2018-01-01</td>\n",
       "      <td>1820</td>\n",
       "      <td>TA00802444</td>\n",
       "      <td>N</td>\n",
       "      <td>N</td>\n",
       "      <td>F</td>\n",
       "      <td>A</td>\n",
       "      <td>D</td>\n",
       "      <td>S</td>\n",
       "      <td>NaN</td>\n",
       "      <td>...</td>\n",
       "      <td>NaN</td>\n",
       "      <td>N</td>\n",
       "      <td>NaN</td>\n",
       "      <td>NaN</td>\n",
       "      <td>NaN</td>\n",
       "      <td>NaN</td>\n",
       "      <td>NaN</td>\n",
       "      <td>NaN</td>\n",
       "      <td>NaN</td>\n",
       "      <td>NaN</td>\n",
       "    </tr>\n",
       "    <tr>\n",
       "      <th>4</th>\n",
       "      <td>2018-01-01</td>\n",
       "      <td>1347</td>\n",
       "      <td>TA00802445</td>\n",
       "      <td>N</td>\n",
       "      <td>N</td>\n",
       "      <td>F</td>\n",
       "      <td>B</td>\n",
       "      <td>D</td>\n",
       "      <td>C</td>\n",
       "      <td>NaN</td>\n",
       "      <td>...</td>\n",
       "      <td>NaN</td>\n",
       "      <td>N</td>\n",
       "      <td>NaN</td>\n",
       "      <td>NaN</td>\n",
       "      <td>NaN</td>\n",
       "      <td>NaN</td>\n",
       "      <td>NaN</td>\n",
       "      <td>NaN</td>\n",
       "      <td>NaN</td>\n",
       "      <td>NaN</td>\n",
       "    </tr>\n",
       "  </tbody>\n",
       "</table>\n",
       "<p>5 rows × 52 columns</p>\n",
       "</div>"
      ],
      "text/plain": [
       "   STOP_DATE  TIME_OF_STOP      REF_NO  RACE_BEFORE_STOP  RES_JURISDICTION  \\\n",
       "0 2018-01-01          1100  TA00802186                 N                 Y   \n",
       "1 2018-01-01          1819  TA00802235                 N                 N   \n",
       "2 2018-01-01          1756  TA00802261                 N                 Y   \n",
       "3 2018-01-01          1820  TA00802444                 N                 N   \n",
       "4 2018-01-01          1347  TA00802445                 N                 N   \n",
       "\n",
       "   SEX  RACE  AGE_CODE  STOP_LOCATION  VIOL_INVESTIGATIVE  ...  CNTR_OTHER  \\\n",
       "0    M     B         D              S                 NaN  ...         NaN   \n",
       "1    M     W         B              C                 NaN  ...         NaN   \n",
       "2    F     H         B              C                 NaN  ...         NaN   \n",
       "3    F     A         D              S                 NaN  ...         NaN   \n",
       "4    F     B         D              C                 NaN  ...         NaN   \n",
       "\n",
       "   SEARCH_ARREST  CHRG_WAR_WAN  CHRG_TRAFF_VIOL  CHRG_DRUG_VIOL  \\\n",
       "0              N           NaN              NaN             NaN   \n",
       "1              N           NaN              NaN             NaN   \n",
       "2              N           NaN              NaN             NaN   \n",
       "3              N           NaN              NaN             NaN   \n",
       "4              N           NaN              NaN             NaN   \n",
       "\n",
       "   CHRG_RESIST_ARR  CHRG_OFF_PERSON  CHRG_PROP_CRIME  CHRG_OTHER  CHRG_DWI  \n",
       "0              NaN              NaN              NaN         NaN       NaN  \n",
       "1              NaN              NaN              NaN         NaN       NaN  \n",
       "2              NaN              NaN              NaN         NaN       NaN  \n",
       "3              NaN              NaN              NaN         NaN       NaN  \n",
       "4              NaN              NaN              NaN         NaN       NaN  \n",
       "\n",
       "[5 rows x 52 columns]"
      ]
     },
     "metadata": {},
     "output_type": "display_data"
    }
   ],
   "source": [
    "#Droping NaN columns from the raw data, adding how modifier to not lose relevant data\n",
    "data.dropna(axis=1, how='all', inplace=True)\n",
    "\n",
    "#Dropping columns by name was raising errors, so checking why\n",
    "# Commenting out for brevity of the Notebook\n",
    "# print(data.columns)\n",
    "\n",
    "#Verifying column has the same values for every row, making it irrelevant\n",
    "data['ORI'].nunique()\n",
    "data.drop(columns=['ORI', ' DSN', ' SEQ_NO', ' EVENT_NO', ' ENTER_DATE', ' ENTER_TIME', ' ENTER_ACID', \\\n",
    "                   ' LAST_UPDATE_DATE', ' LAST_UPDATE_TIME', ' LAST_UPDATE_ACID', ' SECOND_DSN', ' STATUS_CODE'], \\\n",
    "                  inplace=True)\n",
    "\n",
    "#Dropping last 30 or so columns that don't contain any relevant data\n",
    "data.drop(columns=[col for col in data.columns if 'Unnamed' in col], inplace=True)\n",
    "\n",
    "#Re-inspecting to ensure the columns were dropped\n",
    "# Commenting out for brevity of the Notebook\n",
    "# data.info()\n",
    "display(data.head())"
   ]
  },
  {
   "cell_type": "markdown",
   "metadata": {},
   "source": [
    "##### Now that only relevant data is included in the DataFrame, computations and aggregations can begin, to extract insights"
   ]
  },
  {
   "cell_type": "markdown",
   "metadata": {},
   "source": [
    "### Are there significant differences observed, by race, in the amount of stops made related to the overall population percentage of University City? "
   ]
  },
  {
   "cell_type": "markdown",
   "metadata": {},
   "source": [
    "#### Recent racial demographics obtained from: https://www.census.gov/quickfacts/fact/table/universitycitycitymissouri/PST045219#PST045219"
   ]
  },
  {
   "cell_type": "code",
   "execution_count": 4,
   "metadata": {},
   "outputs": [
    {
     "data": {
      "text/html": [
       "<div>\n",
       "<style scoped>\n",
       "    .dataframe tbody tr th:only-of-type {\n",
       "        vertical-align: middle;\n",
       "    }\n",
       "\n",
       "    .dataframe tbody tr th {\n",
       "        vertical-align: top;\n",
       "    }\n",
       "\n",
       "    .dataframe thead th {\n",
       "        text-align: right;\n",
       "    }\n",
       "</style>\n",
       "<table border=\"1\" class=\"dataframe\">\n",
       "  <thead>\n",
       "    <tr style=\"text-align: right;\">\n",
       "      <th></th>\n",
       "      <th># Stopped</th>\n",
       "      <th>% of Stopped</th>\n",
       "      <th>% of City Pop</th>\n",
       "    </tr>\n",
       "    <tr>\n",
       "      <th>RACE</th>\n",
       "      <th></th>\n",
       "      <th></th>\n",
       "      <th></th>\n",
       "    </tr>\n",
       "  </thead>\n",
       "  <tbody>\n",
       "    <tr>\n",
       "      <th>Asian</th>\n",
       "      <td>226</td>\n",
       "      <td>3.46 %</td>\n",
       "      <td>4.60 %</td>\n",
       "    </tr>\n",
       "    <tr>\n",
       "      <th>Black</th>\n",
       "      <td>4275</td>\n",
       "      <td>65.52 %</td>\n",
       "      <td>35.20 %</td>\n",
       "    </tr>\n",
       "    <tr>\n",
       "      <th>Hispanic</th>\n",
       "      <td>68</td>\n",
       "      <td>1.04 %</td>\n",
       "      <td>3.00 %</td>\n",
       "    </tr>\n",
       "    <tr>\n",
       "      <th>Indigenous</th>\n",
       "      <td>31</td>\n",
       "      <td>0.48 %</td>\n",
       "      <td>0.50 %</td>\n",
       "    </tr>\n",
       "    <tr>\n",
       "      <th>Unknown</th>\n",
       "      <td>102</td>\n",
       "      <td>1.56 %</td>\n",
       "      <td>2.40 %</td>\n",
       "    </tr>\n",
       "    <tr>\n",
       "      <th>White</th>\n",
       "      <td>1823</td>\n",
       "      <td>27.94 %</td>\n",
       "      <td>54.20 %</td>\n",
       "    </tr>\n",
       "  </tbody>\n",
       "</table>\n",
       "</div>"
      ],
      "text/plain": [
       "            # Stopped  % of Stopped  % of City Pop\n",
       " RACE                                             \n",
       "Asian             226        3.46 %         4.60 %\n",
       "Black            4275       65.52 %        35.20 %\n",
       "Hispanic           68        1.04 %         3.00 %\n",
       "Indigenous         31        0.48 %         0.50 %\n",
       "Unknown           102        1.56 %         2.40 %\n",
       "White            1823       27.94 %        54.20 %"
      ]
     },
     "execution_count": 4,
     "metadata": {},
     "output_type": "execute_result"
    }
   ],
   "source": [
    "#The total demographics of the city must be created to compare to the demographics of the traffic stops\n",
    "\n",
    "#Grabbing total count to obtain percentages\n",
    "stop_count = data[' REF_NO'].nunique()\n",
    "\n",
    "#Performing a count on stops by racial group\n",
    "race_group = data.groupby(' RACE')[' REF_NO'].nunique()\n",
    "\n",
    "#Determining the percent of stops by racial group\n",
    "race_percent = race_group / stop_count * 100.0\n",
    "\n",
    "#The total demographics of the city must be added to compare to the demographics of the traffic stops\n",
    "race_df = pd.DataFrame({'# Stopped': race_group, '% of Stopped': race_percent, '% of City Pop': \\\n",
    "                       [4.60, 35.2, 3.00, 0.50, 2.40, 54.20]})\n",
    "pd.options.display.float_format = '{:.2f} %'.format\n",
    "\n",
    "race_df.rename(index={'A': 'Asian', 'B': 'Black', 'H': 'Hispanic', 'I': 'Indigenous', 'U': \\\n",
    "                      'Unknown', 'W': 'White'}, inplace=True)\n",
    "\n",
    "race_df"
   ]
  },
  {
   "cell_type": "code",
   "execution_count": 5,
   "metadata": {},
   "outputs": [
    {
     "data": {
      "text/html": [
       "<div>\n",
       "<style scoped>\n",
       "    .dataframe tbody tr th:only-of-type {\n",
       "        vertical-align: middle;\n",
       "    }\n",
       "\n",
       "    .dataframe tbody tr th {\n",
       "        vertical-align: top;\n",
       "    }\n",
       "\n",
       "    .dataframe thead th {\n",
       "        text-align: right;\n",
       "    }\n",
       "</style>\n",
       "<table border=\"1\" class=\"dataframe\">\n",
       "  <thead>\n",
       "    <tr style=\"text-align: right;\">\n",
       "      <th></th>\n",
       "      <th>RACE</th>\n",
       "      <th># Stopped</th>\n",
       "      <th>% of Stopped</th>\n",
       "      <th>% of City Pop</th>\n",
       "    </tr>\n",
       "  </thead>\n",
       "  <tbody>\n",
       "    <tr>\n",
       "      <th>0</th>\n",
       "      <td>Asian</td>\n",
       "      <td>226</td>\n",
       "      <td>3.46 %</td>\n",
       "      <td>4.60 %</td>\n",
       "    </tr>\n",
       "    <tr>\n",
       "      <th>1</th>\n",
       "      <td>Black</td>\n",
       "      <td>4275</td>\n",
       "      <td>65.52 %</td>\n",
       "      <td>35.20 %</td>\n",
       "    </tr>\n",
       "    <tr>\n",
       "      <th>2</th>\n",
       "      <td>Hispanic</td>\n",
       "      <td>68</td>\n",
       "      <td>1.04 %</td>\n",
       "      <td>3.00 %</td>\n",
       "    </tr>\n",
       "    <tr>\n",
       "      <th>3</th>\n",
       "      <td>Indigenous</td>\n",
       "      <td>31</td>\n",
       "      <td>0.48 %</td>\n",
       "      <td>0.50 %</td>\n",
       "    </tr>\n",
       "    <tr>\n",
       "      <th>4</th>\n",
       "      <td>Unknown</td>\n",
       "      <td>102</td>\n",
       "      <td>1.56 %</td>\n",
       "      <td>2.40 %</td>\n",
       "    </tr>\n",
       "    <tr>\n",
       "      <th>5</th>\n",
       "      <td>White</td>\n",
       "      <td>1823</td>\n",
       "      <td>27.94 %</td>\n",
       "      <td>54.20 %</td>\n",
       "    </tr>\n",
       "  </tbody>\n",
       "</table>\n",
       "</div>"
      ],
      "text/plain": [
       "         RACE  # Stopped  % of Stopped  % of City Pop\n",
       "0       Asian        226        3.46 %         4.60 %\n",
       "1       Black       4275       65.52 %        35.20 %\n",
       "2    Hispanic         68        1.04 %         3.00 %\n",
       "3  Indigenous         31        0.48 %         0.50 %\n",
       "4     Unknown        102        1.56 %         2.40 %\n",
       "5       White       1823       27.94 %        54.20 %"
      ]
     },
     "metadata": {},
     "output_type": "display_data"
    },
    {
     "name": "stdout",
     "output_type": "stream",
     "text": [
      "RangeIndex(start=0, stop=6, step=1)\n",
      "Index([' RACE', '# Stopped', '% of Stopped', '% of City Pop'], dtype='object')\n",
      "[['Asian' 226 3.4636015325670497 4.6]\n",
      " ['Black' 4275 65.51724137931035 35.2]\n",
      " ['Hispanic' 68 1.0421455938697317 3.0]\n",
      " ['Indigenous' 31 0.47509578544061304 0.5]\n",
      " ['Unknown' 102 1.5632183908045976 2.4]\n",
      " ['White' 1823 27.93869731800766 54.2]]\n"
     ]
    }
   ],
   "source": [
    "race_df.reset_index(inplace=True)\n",
    "\n",
    "#Need to group by again to do a side-by-side bar plot? Or should I stack them?\n",
    "\n",
    "display(race_df)\n",
    "print(race_df.index)\n",
    "print(race_df.columns)\n",
    "print(race_df.values)"
   ]
  },
  {
   "cell_type": "code",
   "execution_count": 6,
   "metadata": {},
   "outputs": [
    {
     "data": {
      "image/png": "[encoded data removed]",
      "text/plain": [
       "<Figure size 360x360 with 1 Axes>"
      ]
     },
     "metadata": {
      "needs_background": "light"
     },
     "output_type": "display_data"
    }
   ],
   "source": [
    "# fig, ax = plt.subplots(figsize=(10,6))\n",
    "# ax1.set_title('Racial Comparison of Traffic Stops vs. City Population')\n",
    "# ax1.set_xlabel('Race (based on visual observation)')\n",
    "sns.catplot(x=' RACE', \n",
    "            y='% of Stopped', \n",
    "            data=race_df, \n",
    "            kind='bar', \n",
    "            hue=' RACE',\n",
    "            palette='colorblind')\n",
    "\n",
    "plt.show()\n",
    "\n"
   ]
  },
  {
   "cell_type": "markdown",
   "metadata": {},
   "source": [
    "### Are there significant differences observed, by race, in the issuing of warnings vs. citations vs. arrests?"
   ]
  },
  {
   "cell_type": "code",
   "execution_count": 7,
   "metadata": {},
   "outputs": [
    {
     "data": {
      "text/html": [
       "<div>\n",
       "<style scoped>\n",
       "    .dataframe tbody tr th:only-of-type {\n",
       "        vertical-align: middle;\n",
       "    }\n",
       "\n",
       "    .dataframe tbody tr th {\n",
       "        vertical-align: top;\n",
       "    }\n",
       "\n",
       "    .dataframe thead th {\n",
       "        text-align: right;\n",
       "    }\n",
       "</style>\n",
       "<table border=\"1\" class=\"dataframe\">\n",
       "  <thead>\n",
       "    <tr style=\"text-align: right;\">\n",
       "      <th></th>\n",
       "      <th>Warning Issued</th>\n",
       "      <th>% Warned</th>\n",
       "      <th>Citation Issued</th>\n",
       "      <th>% Cited</th>\n",
       "      <th>Arrested</th>\n",
       "      <th>% Arrested</th>\n",
       "    </tr>\n",
       "    <tr>\n",
       "      <th>RACE</th>\n",
       "      <th></th>\n",
       "      <th></th>\n",
       "      <th></th>\n",
       "      <th></th>\n",
       "      <th></th>\n",
       "      <th></th>\n",
       "    </tr>\n",
       "  </thead>\n",
       "  <tbody>\n",
       "    <tr>\n",
       "      <th>Asian</th>\n",
       "      <td>66</td>\n",
       "      <td>32.67 %</td>\n",
       "      <td>136</td>\n",
       "      <td>67.33 %</td>\n",
       "      <td>0</td>\n",
       "      <td>0.00 %</td>\n",
       "    </tr>\n",
       "    <tr>\n",
       "      <th>Black</th>\n",
       "      <td>1402</td>\n",
       "      <td>41.89 %</td>\n",
       "      <td>1863</td>\n",
       "      <td>55.66 %</td>\n",
       "      <td>82</td>\n",
       "      <td>2.45 %</td>\n",
       "    </tr>\n",
       "    <tr>\n",
       "      <th>Hispanic</th>\n",
       "      <td>24</td>\n",
       "      <td>47.06 %</td>\n",
       "      <td>27</td>\n",
       "      <td>52.94 %</td>\n",
       "      <td>0</td>\n",
       "      <td>0.00 %</td>\n",
       "    </tr>\n",
       "    <tr>\n",
       "      <th>Indigenous</th>\n",
       "      <td>4</td>\n",
       "      <td>19.05 %</td>\n",
       "      <td>17</td>\n",
       "      <td>80.95 %</td>\n",
       "      <td>0</td>\n",
       "      <td>0.00 %</td>\n",
       "    </tr>\n",
       "    <tr>\n",
       "      <th>Unknown</th>\n",
       "      <td>26</td>\n",
       "      <td>30.95 %</td>\n",
       "      <td>57</td>\n",
       "      <td>67.86 %</td>\n",
       "      <td>1</td>\n",
       "      <td>1.19 %</td>\n",
       "    </tr>\n",
       "    <tr>\n",
       "      <th>White</th>\n",
       "      <td>540</td>\n",
       "      <td>34.73 %</td>\n",
       "      <td>999</td>\n",
       "      <td>64.24 %</td>\n",
       "      <td>16</td>\n",
       "      <td>1.03 %</td>\n",
       "    </tr>\n",
       "  </tbody>\n",
       "</table>\n",
       "</div>"
      ],
      "text/plain": [
       "            Warning Issued  % Warned  Citation Issued  % Cited  Arrested  \\\n",
       " RACE                                                                      \n",
       "Asian                   66   32.67 %              136  67.33 %         0   \n",
       "Black                 1402   41.89 %             1863  55.66 %        82   \n",
       "Hispanic                24   47.06 %               27  52.94 %         0   \n",
       "Indigenous               4   19.05 %               17  80.95 %         0   \n",
       "Unknown                 26   30.95 %               57  67.86 %         1   \n",
       "White                  540   34.73 %              999  64.24 %        16   \n",
       "\n",
       "            % Arrested  \n",
       " RACE                   \n",
       "Asian           0.00 %  \n",
       "Black           2.45 %  \n",
       "Hispanic        0.00 %  \n",
       "Indigenous      0.00 %  \n",
       "Unknown         1.19 %  \n",
       "White           1.03 %  "
      ]
     },
     "execution_count": 7,
     "metadata": {},
     "output_type": "execute_result"
    }
   ],
   "source": [
    "warn = data.groupby(' RACE')[' STOP_WARNING'].count()\n",
    "cita = data.groupby(' RACE')[' STOP_CITATION'].count()\n",
    "arrest = data.groupby(' RACE')[' CAUSE_INC_TO_ARR'].count()\n",
    "\n",
    "warn_percent = warn / (warn + cita + arrest) * 100.0\n",
    "cita_percent = cita / (warn + cita + arrest) * 100.0\n",
    "arrest_percent = arrest / (warn + cita + arrest) * 100.0\n",
    "\n",
    "race_action = pd.DataFrame({'Warning Issued': warn, '% Warned': warn_percent, 'Citation Issued': cita, '% Cited': \\\n",
    "                            cita_percent, 'Arrested': arrest, '% Arrested': arrest_percent})\n",
    "race_action.rename(index={'A': 'Asian', 'B': 'Black', 'H': 'Hispanic', 'I': 'Indigenous', 'U': \\\n",
    "                      'Unknown', 'W': 'White'}, inplace=True)\n",
    "race_action"
   ]
  },
  {
   "cell_type": "code",
   "execution_count": 8,
   "metadata": {},
   "outputs": [],
   "source": [
    "#Violin plot here"
   ]
  },
  {
   "cell_type": "markdown",
   "metadata": {},
   "source": [
    "### Is there a noticeable trend of stops based on the time of month or year?"
   ]
  },
  {
   "cell_type": "code",
   "execution_count": 9,
   "metadata": {},
   "outputs": [
    {
     "data": {
      "text/html": [
       "<div>\n",
       "<style scoped>\n",
       "    .dataframe tbody tr th:only-of-type {\n",
       "        vertical-align: middle;\n",
       "    }\n",
       "\n",
       "    .dataframe tbody tr th {\n",
       "        vertical-align: top;\n",
       "    }\n",
       "\n",
       "    .dataframe thead th {\n",
       "        text-align: right;\n",
       "    }\n",
       "</style>\n",
       "<table border=\"1\" class=\"dataframe\">\n",
       "  <thead>\n",
       "    <tr style=\"text-align: right;\">\n",
       "      <th></th>\n",
       "      <th># of Stops</th>\n",
       "    </tr>\n",
       "  </thead>\n",
       "  <tbody>\n",
       "    <tr>\n",
       "      <th>2018-07-11</th>\n",
       "      <td>116</td>\n",
       "    </tr>\n",
       "    <tr>\n",
       "      <th>2018-02-16</th>\n",
       "      <td>55</td>\n",
       "    </tr>\n",
       "    <tr>\n",
       "      <th>2018-01-25</th>\n",
       "      <td>48</td>\n",
       "    </tr>\n",
       "    <tr>\n",
       "      <th>2018-02-13</th>\n",
       "      <td>47</td>\n",
       "    </tr>\n",
       "    <tr>\n",
       "      <th>2018-06-14</th>\n",
       "      <td>47</td>\n",
       "    </tr>\n",
       "    <tr>\n",
       "      <th>...</th>\n",
       "      <td>...</td>\n",
       "    </tr>\n",
       "    <tr>\n",
       "      <th>2018-08-03</th>\n",
       "      <td>1</td>\n",
       "    </tr>\n",
       "    <tr>\n",
       "      <th>2018-06-30</th>\n",
       "      <td>1</td>\n",
       "    </tr>\n",
       "    <tr>\n",
       "      <th>2018-10-19</th>\n",
       "      <td>1</td>\n",
       "    </tr>\n",
       "    <tr>\n",
       "      <th>2018-08-09</th>\n",
       "      <td>1</td>\n",
       "    </tr>\n",
       "    <tr>\n",
       "      <th>2018-01-15</th>\n",
       "      <td>1</td>\n",
       "    </tr>\n",
       "  </tbody>\n",
       "</table>\n",
       "<p>353 rows × 1 columns</p>\n",
       "</div>"
      ],
      "text/plain": [
       "            # of Stops\n",
       "2018-07-11         116\n",
       "2018-02-16          55\n",
       "2018-01-25          48\n",
       "2018-02-13          47\n",
       "2018-06-14          47\n",
       "...                ...\n",
       "2018-08-03           1\n",
       "2018-06-30           1\n",
       "2018-10-19           1\n",
       "2018-08-09           1\n",
       "2018-01-15           1\n",
       "\n",
       "[353 rows x 1 columns]"
      ]
     },
     "metadata": {},
     "output_type": "display_data"
    }
   ],
   "source": [
    "#Obtaining a count per day of stops initiated\n",
    "date_count = data[' STOP_DATE'].value_counts()\n",
    "\n",
    "#Converting counts to a more visually appealing DataFrame\n",
    "date_df = pd.DataFrame({'# of Stops': date_count})\n",
    "display(date_df)"
   ]
  },
  {
   "cell_type": "code",
   "execution_count": 12,
   "metadata": {},
   "outputs": [
    {
     "data": {
      "image/png": "[encoded data removed]",
      "text/plain": [
       "<Figure size 1080x360 with 1 Axes>"
      ]
     },
     "metadata": {
      "needs_background": "light"
     },
     "output_type": "display_data"
    }
   ],
   "source": [
    "date_fig = sns.relplot(x=date_df.index, \n",
    "                       y='# of Stops', \n",
    "                       data=date_df, \n",
    "                       kind='line', \n",
    "                       color='#6403ff', \n",
    "                       aspect=3)\n",
    "date_fig.fig.suptitle(\"# of Stops Conducted over 2018\", y=1.03)\n",
    "\n",
    "#Creating list to set x-tick marks to something more readable\n",
    "beg_month = ['2018-01', '2018-02', '2018-03', '2018-04', '2018-05', '2018-06', '2018-07', '2018-08', '2018-09', \\\n",
    "            '2018-10', '2018-11', '2018-12', '2019-01']\n",
    "date_fig.set(xticks=beg_month)\n",
    "plt.show()"
   ]
  },
  {
   "cell_type": "markdown",
   "metadata": {},
   "source": [
    "### What were the reasons for the initial stop?"
   ]
  },
  {
   "cell_type": "markdown",
   "metadata": {},
   "source": [
    "#### Initial Stop"
   ]
  },
  {
   "cell_type": "code",
   "execution_count": 19,
   "metadata": {},
   "outputs": [
    {
     "data": {
      "text/html": [
       "<style  type=\"text/css\" >\n",
       "</style><table id=\"T_826813b8_0d97_11eb_89da_d0577b3d6255\" ><thead>    <tr>        <th class=\"col_heading level0 col0\" >Investigative</th>        <th class=\"col_heading level0 col1\" >Equipment</th>        <th class=\"col_heading level0 col2\" >License</th>        <th class=\"col_heading level0 col3\" >Moving</th>    </tr></thead><tbody>\n",
       "                <tr>\n",
       "                                <td id=\"T_826813b8_0d97_11eb_89da_d0577b3d6255row0_col0\" class=\"data row0 col0\" >1134</td>\n",
       "                        <td id=\"T_826813b8_0d97_11eb_89da_d0577b3d6255row0_col1\" class=\"data row0 col1\" >1209</td>\n",
       "                        <td id=\"T_826813b8_0d97_11eb_89da_d0577b3d6255row0_col2\" class=\"data row0 col2\" >1600</td>\n",
       "                        <td id=\"T_826813b8_0d97_11eb_89da_d0577b3d6255row0_col3\" class=\"data row0 col3\" >3440</td>\n",
       "            </tr>\n",
       "    </tbody></table>"
      ],
      "text/plain": [
       "<pandas.io.formats.style.Styler at 0x1d95e3ec5b0>"
      ]
     },
     "metadata": {},
     "output_type": "display_data"
    },
    {
     "data": {
      "text/html": [
       "<style  type=\"text/css\" >\n",
       "</style><table id=\"T_8268d684_0d97_11eb_a398_d0577b3d6255\" ><thead>    <tr>        <th class=\"col_heading level0 col0\" >Speeding</th>        <th class=\"col_heading level0 col1\" >Lane Violation</th>        <th class=\"col_heading level0 col2\" >Following Too Close</th>        <th class=\"col_heading level0 col3\" >Commercial Motor Vehicle</th>        <th class=\"col_heading level0 col4\" >Failure to Signal</th>        <th class=\"col_heading level0 col5\" >Other</th>    </tr></thead><tbody>\n",
       "                <tr>\n",
       "                                <td id=\"T_8268d684_0d97_11eb_a398_d0577b3d6255row0_col0\" class=\"data row0 col0\" >1420</td>\n",
       "                        <td id=\"T_8268d684_0d97_11eb_a398_d0577b3d6255row0_col1\" class=\"data row0 col1\" >196</td>\n",
       "                        <td id=\"T_8268d684_0d97_11eb_a398_d0577b3d6255row0_col2\" class=\"data row0 col2\" >12</td>\n",
       "                        <td id=\"T_8268d684_0d97_11eb_a398_d0577b3d6255row0_col3\" class=\"data row0 col3\" >4</td>\n",
       "                        <td id=\"T_8268d684_0d97_11eb_a398_d0577b3d6255row0_col4\" class=\"data row0 col4\" >29</td>\n",
       "                        <td id=\"T_8268d684_0d97_11eb_a398_d0577b3d6255row0_col5\" class=\"data row0 col5\" >1822</td>\n",
       "            </tr>\n",
       "    </tbody></table>"
      ],
      "text/plain": [
       "<pandas.io.formats.style.Styler at 0x1d95e3ec640>"
      ]
     },
     "metadata": {},
     "output_type": "display_data"
    }
   ],
   "source": [
    "#Performing counts on the various columns in question\n",
    "stop_invest = data[' VIOL_INVESTIGATIVE'].count()\n",
    "stop_equip = data[' VIOL_EQUIPMENT'].count()\n",
    "stop_lic = data[' VIOL_LICENSE'].count()\n",
    "stop_mov = data[' VIOL_MOVING'].count()\n",
    "\n",
    "#Subset of moving violations are counted below\n",
    "mov_speed = data[' MOVING_SPEED'].count()\n",
    "mov_lane = data[' MOVING_LANE'].count()\n",
    "mov_tail = data[' MOVING_TAIL'].count()\n",
    "mov_cmv = data[' MOVING_CMV'].count()\n",
    "mov_sig = data[' MOVING_SIGNAL'].count()\n",
    "mov_other = data[' MOVING_OTHER'].count()\n",
    "\n",
    "#Creating the DataFrame for the broad stop categories\n",
    "stop_df = pd.DataFrame({'Investigative': [stop_invest], 'Equipment': [stop_equip], 'License': [stop_lic], \\\n",
    "                        'Moving': [stop_mov]})\n",
    "display(stop_df.style.hide_index())\n",
    "\n",
    "#Creating the DataFrame for the various moving violations\n",
    "moving_df = pd.DataFrame({'Speeding': [mov_speed], 'Lane Violation': [mov_lane], 'Following Too Close': [mov_tail], \\\n",
    "                         'Commercial Motor Vehicle': [mov_cmv], 'Failure to Signal': [mov_sig], 'Other': [mov_other]})\n",
    "display(moving_df.style.hide_index())"
   ]
  },
  {
   "cell_type": "code",
   "execution_count": 26,
   "metadata": {},
   "outputs": [
    {
     "data": {
      "image/png": "[encoded data removed]",
      "text/plain": [
       "<Figure size 432x288 with 1 Axes>"
      ]
     },
     "metadata": {},
     "output_type": "display_data"
    },
    {
     "data": {
      "image/png": "[encoded data removed]",
      "text/plain": [
       "<Figure size 432x288 with 1 Axes>"
      ]
     },
     "metadata": {},
     "output_type": "display_data"
    }
   ],
   "source": [
    "stop_group = [stop_invest, stop_equip, stop_lic, stop_mov]\n",
    "stop_labels = ['Investigative', 'Equipment', 'License', 'Moving']\n",
    "plt.pie(stop_group, labels=stop_labels, autopct='%0.2f%%')\n",
    "plt.show()\n",
    "\n",
    "mov_group = [mov_speed, mov_lane, mov_tail, mov_cmv, mov_sig, mov_other]\n",
    "mov_labels = ['Speeding', 'Lane Violation', 'Following Too Close', 'Commercial Motor Vehicle', 'Failure to Signal', 'Other']\n",
    "plt.pie(mov_group, labels=mov_labels, autopct='%0.2f%%')\n",
    "plt.axis('equal')\n",
    "plt.show()"
   ]
  }
 ],
 "metadata": {
  "kernelspec": {
   "display_name": "Python 3",
   "language": "python",
   "name": "python3"
  },
  "language_info": {
   "codemirror_mode": {
    "name": "ipython",
    "version": 3
   },
   "file_extension": ".py",
   "mimetype": "text/x-python",
   "name": "python",
   "nbconvert_exporter": "python",
   "pygments_lexer": "ipython3",
   "version": "3.8.5"
  }
 },
 "nbformat": 4,
 "nbformat_minor": 4
}
